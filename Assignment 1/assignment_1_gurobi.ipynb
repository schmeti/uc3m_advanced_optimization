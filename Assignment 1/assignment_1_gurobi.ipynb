{
 "cells": [
  {
   "cell_type": "markdown",
   "id": "6071e5c3",
   "metadata": {},
   "source": [
    "# Advanced Optimization and Decision Analytics: Assignment 1 - Solving via Gurobi in Python\n",
    "\n",
    "In the following section, Problems 1 and 2 are solved using Gurobi in Python.\n",
    "\n",
    "## Problem 1\n",
    "\n",
    "In problem 1, we are serching for optima of the objective function\n",
    "\n",
    "$$\n",
    "f(\\mathbf{x}) = x_1^2 + x_2^2 - x_3^2,\n",
    "$$\n",
    "\n",
    "s.t.\n",
    "\n",
    "$$\n",
    "8x_1^2 + 24x_2 - 15x_3 \\leq 129\n",
    "$$\n",
    "\n",
    "$$\n",
    "x_1^2 + 2x_2^2 + 4x_3^2 \\geq 15.\n",
    "$$\n",
    "\n",
    "We set up the Variables and Constraints of the Problem first."
   ]
  },
  {
   "cell_type": "code",
   "execution_count": 10,
   "id": "dfe28cb8",
   "metadata": {},
   "outputs": [
    {
     "data": {
      "text/plain": [
       "<gurobi.QConstr Not Yet Added>"
      ]
     },
     "execution_count": 10,
     "metadata": {},
     "output_type": "execute_result"
    }
   ],
   "source": [
    "from gurobipy import Model, GRB\n",
    "\n",
    "model1 = Model('prob1')\n",
    "\n",
    "# Define the variables\n",
    "x1 = model1.addVar(lb = -GRB.INFINITY, ub= GRB.INFINITY, name=\"x1\")\n",
    "x2 = model1.addVar(lb = -GRB.INFINITY, ub= GRB.INFINITY, name=\"x2\")\n",
    "x3 = model1.addVar(lb = -GRB.INFINITY, ub= GRB.INFINITY, name=\"x3\")\n",
    "\n",
    "#add constraints\n",
    "model1.addConstr(2 * x1 ** 2 - 37 * x2 + 9 * x3 == 18, \"c1\")\n",
    "model1.addConstr(5 * x1 + x2 + 5 * x3 ** 2 == 24, \"c2\")"
   ]
  },
  {
   "cell_type": "markdown",
   "id": "365280ed",
   "metadata": {},
   "source": [
    "Then we first define the objective function with the goal to maximize, run the solver and print the results. Gurobi, looking for the global optimum finds the same point as found in the matlab analysis as candidate point D."
   ]
  },
  {
   "cell_type": "code",
   "execution_count": 11,
   "id": "d9a213a1",
   "metadata": {},
   "outputs": [
    {
     "name": "stdout",
     "output_type": "stream",
     "text": [
      "x1: -97.16265952910427\n",
      "x2: 509.8127734171107\n",
      "x3: -0.010244122590746783\n",
      "Optimal objective value: 2257.5755736720976\n"
     ]
    }
   ],
   "source": [
    "# define objective for maximization\n",
    "model1.setObjective(3*x1 + 5*x2 - 3*x3**2, GRB.MAXIMIZE)\n",
    "\n",
    "# solve\n",
    "model1.setParam('OutputFlag', 0)\n",
    "model1.optimize()\n",
    "\n",
    "# print results\n",
    "for v in model1.getVars():\n",
    "    print(f\"{v.varName}: {v.x}\")\n",
    "print(f\"Optimal objective value: {model1.objVal}\")"
   ]
  },
  {
   "cell_type": "markdown",
   "id": "56943c03",
   "metadata": {},
   "source": [
    "Likewise, the global minimum is found corresponding to candidate Point B from the Matlab analysis."
   ]
  },
  {
   "cell_type": "code",
   "execution_count": 12,
   "id": "1f9632aa",
   "metadata": {},
   "outputs": [
    {
     "name": "stdout",
     "output_type": "stream",
     "text": [
      "x1: -10.14600494474171\n",
      "x2: 4.164109941389492\n",
      "x3: -3.756751649559144\n",
      "Optimal objective value: -51.95701399667372\n"
     ]
    }
   ],
   "source": [
    "# define objective for maximization\n",
    "model1.setObjective(3*x1 + 5*x2 - 3*x3**2, GRB.MINIMIZE)\n",
    "\n",
    "# solve\n",
    "model1.optimize()\n",
    "\n",
    "# print results\n",
    "for v in model1.getVars():\n",
    "    print(f\"{v.varName}: {v.x}\")\n",
    "print(f\"Optimal objective value: {model1.objVal}\")\n",
    "\n"
   ]
  },
  {
   "cell_type": "markdown",
   "id": "04e7bb1d",
   "metadata": {},
   "source": [
    "## Problem 2\n",
    "\n",
    "In problem 2, our aim is to maximize the following function.\n",
    "$$\n",
    "f(\\mathbf{x}) = x_1^2 + x_2^2 - x_3^2,\n",
    "$$\n",
    "\n",
    "s.t.\n",
    "\n",
    "$$\n",
    "8x_1^2 + 24x_2 - 15x_3 \\leq 129\n",
    "$$\n",
    "\n",
    "$$\n",
    "x_1^2 + 2x_2^2 + 4x_3^2 \\geq 15.\n",
    "$$\n",
    "\n",
    "where as in the previous section, we reformulate the second constraint as\n",
    "\n",
    "$$-x_1^2 - 2x_2^2 - 4x_3^2 \\leq -15$$\n",
    "\n",
    "to make sure that the optimization is in standard form for maximization. We then define the Variables, Objective function and Constraints in Gurobi and run the solver. When looking at the results the solver outputs, we find the variables and function value to be extremely large and the solver to be giving a warning to the Problem being unbounded. "
   ]
  },
  {
   "cell_type": "code",
   "execution_count": null,
   "id": "c38cdae5",
   "metadata": {},
   "outputs": [
    {
     "name": "stdout",
     "output_type": "stream",
     "text": [
      "Gurobi Optimizer version 12.0.1 build v12.0.1rc0 (mac64[x86] - Darwin 24.3.0 24D81)\n",
      "\n",
      "CPU model: Intel(R) Core(TM) i7-9750H CPU @ 2.60GHz\n",
      "Thread count: 6 physical cores, 12 logical processors, using up to 12 threads\n",
      "\n",
      "Optimize a model with 0 rows, 3 columns and 0 nonzeros\n",
      "Model fingerprint: 0x2382531e\n",
      "Model has 3 quadratic objective terms\n",
      "Model has 2 quadratic constraints\n",
      "Coefficient statistics:\n",
      "  Matrix range     [0e+00, 0e+00]\n",
      "  QMatrix range    [1e+00, 8e+00]\n",
      "  QLMatrix range   [2e+01, 2e+01]\n",
      "  Objective range  [0e+00, 0e+00]\n",
      "  QObjective range [2e+00, 2e+00]\n",
      "  Bounds range     [0e+00, 0e+00]\n",
      "  RHS range        [0e+00, 0e+00]\n",
      "  QRHS range       [2e+01, 1e+02]\n",
      "\n",
      "Continuous model is non-convex -- solving as a MIP\n",
      "\n",
      "Presolve time: 0.00s\n",
      "Presolved: 10 rows, 8 columns, 24 nonzeros\n",
      "Presolved model has 3 bilinear constraint(s)\n",
      "Warning: Model contains variables with very large bounds participating\n",
      "         in product terms.\n",
      "         Presolve was not able to compute smaller bounds for these variables.\n",
      "         Consider bounding these variables or reformulating the model.\n",
      "\n",
      "Variable types: 8 continuous, 0 integer (0 binary)\n",
      "Found heuristic solution: objective 47.4102564\n",
      "\n",
      "Root relaxation: unbounded, 7 iterations, 0.00 seconds (0.00 work units)\n",
      "\n",
      "    Nodes    |    Current Node    |     Objective Bounds      |     Work\n",
      " Expl Unexpl |  Obj  Depth IntInf | Incumbent    BestBd   Gap | It/Node Time\n",
      "\n",
      "     0     0  postponed    0        47.41026          -      -     -    0s\n",
      "     0     0  postponed    0        47.41026          -      -     -    0s\n",
      "     0     2  postponed    0        47.41026          -      -     -    0s\n",
      "*    3     6               2    625000.00000          -      -   4.7    0s\n",
      "*    8     8               3    750000.00000          -      -   3.1    0s\n",
      "*    9     8               3    1125000.0000          -      -   2.8    0s\n",
      "*   13    12               4    1250000.0000          -      -   2.8    0s\n",
      "*   19    12               5    2250000.0000          -      -   1.9    0s\n",
      "*   21    12               6    4250000.0000          -      -   1.7    0s\n",
      "*   26    12               6    8125000.0000          -      -   1.4    0s\n",
      "*   40    14               7    8250000.0000          -      -   0.9    0s\n",
      "*   42    14               8    1.625000e+07          -      -   0.9    0s\n",
      "*   44    14               9    3.225000e+07          -      -   0.8    0s\n",
      "*   49    14               9    6.412500e+07          -      -   0.8    0s\n",
      "*   67    26              10    6.425000e+07          -      -   0.6    0s\n",
      "*   69    26              11    1.282500e+08          -      -   0.5    0s\n",
      "*   74    26              11    2.561250e+08          -      -   0.5    0s\n",
      "*  106    40              12    2.562500e+08          -      -   0.4    0s\n",
      "*  108    40              13    5.122500e+08          -      -   0.4    0s\n",
      "*  110    40              14    1.024250e+09          -      -   0.4    0s\n",
      "*  112    40              15    2.048250e+09          -      -   0.4    0s\n",
      "*  114    40              16    4.096250e+09          -      -   0.4    0s\n",
      "*  149    40              19    4.098000e+09          -      -   0.4    0s\n",
      "*  165    40              19    8.193000e+09          -      -   0.3    0s\n",
      "*  193    38              24    8.224000e+09          -      -   0.3    0s\n",
      "*  195    38              25    1.641600e+10          -      -   0.3    0s\n",
      "*  230    38              22    3.277000e+10          -      -   0.3    0s\n",
      "*  232    38              23    6.553800e+10          -      -   0.3    0s\n",
      "*  234    38              24    1.310740e+11          -      -   0.3    0s\n",
      "*  236    38              25    2.621460e+11          -      -   0.3    0s\n",
      "*  278    44              29    2.621760e+11          -      -   0.2    0s\n",
      "*  280    44              30    5.243200e+11          -      -   0.2    0s\n",
      "*  282    44              31    1.048608e+12          -      -   0.2    0s\n",
      "*  284    44              32    2.097184e+12          -      -   0.2    0s\n",
      "*  359    44              33    2.097216e+12          -      -   0.3    0s\n",
      "*  361    44              33    4.194336e+12          -      -   0.3    0s\n",
      "*  363    44              34    8.388640e+12          -      -   0.3    0s\n",
      "*  365    44              35    1.677725e+13          -      -   0.2    0s\n",
      "*  367    44              36    3.355446e+13          -      -   0.2    0s\n",
      "*  369    44              37    6.710890e+13          -      -   0.2    0s\n",
      "H  371    44                    4.551109e+14          -      -   0.2    0s\n",
      "*  547    94              44    5.113881e+14          -      -   0.2    0s\n",
      "*  592    94              42    5.368710e+14          -      -   0.2    0s\n",
      "*  749    66              45    5.368719e+14          -      -   0.3    0s\n",
      "H 1017    46                    6.710886e+19          -      -   0.2    0s\n",
      "\n",
      "Explored 2249 nodes (235 simplex iterations) in 0.16 seconds (0.01 work units)\n",
      "Thread count was 12 (of 12 available processors)\n",
      "\n",
      "Solution count 10: 6.71089e+19 5.36872e+14 5.36871e+14 ... 2.56125e+08\n",
      "\n",
      "Optimal solution found (tolerance 1.00e-04)\n",
      "Best objective 6.710886188749e+19, best bound 6.710886188749e+19, gap 0.0000%\n",
      "x1: -32000.0\n",
      "x2: -8191999871.0\n",
      "x3: 0.0\n",
      "Optimal objective value: 6.710886188748802e+19\n"
     ]
    }
   ],
   "source": [
    "from gurobipy import Model, GRB\n",
    "\n",
    "model2 = Model('prob2')\n",
    "\n",
    "# Define the variables\n",
    "x1 = model2.addVar(lb = -GRB.INFINITY, ub= GRB.INFINITY, name=\"x1\")\n",
    "x2 = model2.addVar(lb = -GRB.INFINITY, ub= GRB.INFINITY, name=\"x2\")\n",
    "x3 = model2.addVar(lb = -GRB.INFINITY, ub= GRB.INFINITY, name=\"x3\")\n",
    "\n",
    "# define objective\n",
    "model2.setObjective(x1**2 + x2**2 - x3**2, GRB.MAXIMIZE)\n",
    "\n",
    "#add constraints\n",
    "model2.addConstr(8 * x1**2 + 24 * x2 - 15 * x3 <= 129, \"c2\")\n",
    "model2.addConstr(- x1**2 - 2*x2**2 - 4*x3**2 <= -15, \"c1\")\n",
    "\n",
    "# solve\n",
    "model2.optimize()\n",
    "\n",
    "# print results\n",
    "for v in model2.getVars():\n",
    "    print(f\"{v.varName}: {v.x}\")\n",
    "print(f\"Optimal objective value: {model2.objVal}\")"
   ]
  },
  {
   "cell_type": "markdown",
   "id": "9def8e36",
   "metadata": {},
   "source": [
    "As Gurboi searches only for a single global optima, we thus due to the unbounded nature of the problem and unlike in matlab where multiple candiate points for local as well as global optima are identified. However, in case of the problem being unbounded and the objective function going to infinity in certain directions like in the objective function of Problem 2, the approach taken in MATLAB is unable to find the maximum value as the conditions used to identify optima do not work as they are limited to fininding saddle points or maxima/minima with gradients equal to zero. Significantly different results in both approaches are thus not unexpected.\n",
    "\n",
    "The Optimization Problem should thus be reconsidered as in its current unbounded form, the optimal x values to maximize would be $x_1 = 0$, $x_2 = -\\infty$, $x_3 = 0$ yielding $f(x)=\\infty$. Overall this is a good example on why black-box solvers need to be used with caution and a good understanding of their limitations."
   ]
  }
 ],
 "metadata": {
  "kernelspec": {
   "display_name": "Python 3",
   "language": "python",
   "name": "python3"
  },
  "language_info": {
   "codemirror_mode": {
    "name": "ipython",
    "version": 3
   },
   "file_extension": ".py",
   "mimetype": "text/x-python",
   "name": "python",
   "nbconvert_exporter": "python",
   "pygments_lexer": "ipython3",
   "version": "3.10.0"
  }
 },
 "nbformat": 4,
 "nbformat_minor": 5
}
