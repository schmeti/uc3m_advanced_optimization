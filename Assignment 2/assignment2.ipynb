{
 "cells": [
  {
   "cell_type": "markdown",
   "id": "c519457f",
   "metadata": {},
   "source": [
    "# Advanced Optimization: Assignment 2\n",
    "\n",
    "Simon Schmetz\n",
    "\n",
    "The following document contains the work done for the second Assignment in the course of advanced optimization in the Master of Statistics for Data Science. "
   ]
  },
  {
   "cell_type": "code",
   "execution_count": 1,
   "id": "a430ce49",
   "metadata": {},
   "outputs": [],
   "source": [
    "# Imports\n",
    "import pandas as pd\n",
    "\n",
    "import numpy as np\n",
    "import gurobipy as gp\n",
    "from gurobipy import GRB\n",
    "\n",
    "from graphviz import Digraph\n",
    "\n",
    "\n",
    "import numpy as np\n",
    "import matplotlib.pyplot as plt\n",
    "from gurobipy import Model, GRB, quicksum\n",
    "from graphviz import Digraph\n",
    "\n",
    "from IPython.display import Image, display\n",
    "\n",
    "from sklearn.metrics import accuracy_score\n",
    "\n"
   ]
  },
  {
   "cell_type": "markdown",
   "id": "d634ab10",
   "metadata": {},
   "source": [
    "# Problem 1\n",
    "\n",
    "The first problem set is performed in the context of optimization in machine learning, more specifically in the context of classification tasks. The dataset used is the famous wine dataset (https://archive.ics.uci.edu/dataset/109/wine), which contains 178 datapoints corresponding to one of three categories of wines and a range of continious variables for each wine. The following pice of codes imports the dataset from sklearn and seperately generates a dataframe for later use."
   ]
  },
  {
   "cell_type": "code",
   "execution_count": 2,
   "id": "0e92a3c3",
   "metadata": {},
   "outputs": [],
   "source": [
    "from sklearn.datasets import load_wine\n",
    "data = load_wine()\n",
    "X = data.data\n",
    "y = data.target\n",
    "target_names = data.target_names  \n",
    "\n",
    "# Create DataFrame\n",
    "df = pd.DataFrame(data.data, columns=data.feature_names)\n",
    "df['target'] = data.target\n",
    "df['target_name'] = pd.Series(data.target).map(dict(enumerate(data.target_names)))\n"
   ]
  },
  {
   "cell_type": "markdown",
   "id": "096b608e",
   "metadata": {},
   "source": [
    "## a) Classes 1 and 2 linealy separable ? \n",
    "\n",
    "__Task:__ Are classes 1 and 2 linearly separable based on all the features? Use the optimization\n",
    "approach seen in class with Gurobi–Python to find out and discuss the results.\n",
    "\n",
    "To check if classes 1 and 2 are linealy seperable, we first generate a subset of data corresponding to only wines from category 1 and 2."
   ]
  },
  {
   "cell_type": "code",
   "execution_count": 3,
   "id": "16a2f092",
   "metadata": {},
   "outputs": [],
   "source": [
    "# Format Subset of Data\n",
    "df_classes_1_2 = df[df['target'].isin([0, 1])]\n",
    "\n",
    "X_classes_1_2 = df_classes_1_2.drop(columns=['target', 'target_name']).values\n",
    "\n",
    "y_classes_1_2 = df_classes_1_2['target'].values\n",
    "y_classes_1_2 = np.where(y_classes_1_2 == 0, -1, 1) \n",
    "\n"
   ]
  },
  {
   "cell_type": "markdown",
   "id": "89e84ded",
   "metadata": {},
   "source": [
    "We then proceed using a perceptron to check if the classes are linealy separable. If a solution exists for the perceptron, we know the classes are indeed linearly separable. A way to proove that is by formulating the dual of the problem and checking if it is bounded, then the primal is feasible and the first two classes linealy separable. \n",
    "\n",
    "As implemented below, the dual formulation yields a solution. __The first two classes are thus linealy separable.__"
   ]
  },
  {
   "cell_type": "code",
   "execution_count": 4,
   "id": "1d09b2ca",
   "metadata": {},
   "outputs": [
    {
     "name": "stdout",
     "output_type": "stream",
     "text": [
      "Set parameter Username\n",
      "Set parameter LicenseID to value 2657021\n",
      "Academic license - for non-commercial use only - expires 2026-04-26\n",
      "Model Status: Optimal solution found.\n"
     ]
    }
   ],
   "source": [
    "### Perceptron Dual Formulation\n",
    "n = X_classes_1_2.shape[0]\n",
    "\n",
    "model = gp.Model(\"perceptron_dual\")\n",
    "mu_perceptron = model.addVars(n, lb=0, name=\"mu_perceptron\")\n",
    "\n",
    "model.setObjective(gp.quicksum(mu_perceptron[i] for i in range(n)), GRB.MAXIMIZE)\n",
    "\n",
    "model.addConstrs((mu_perceptron[i] >= 0 for i in range(n)), name=\"non-negativity\")\n",
    "model.addConstrs((gp.quicksum(mu_perceptron[i] * y_classes_1_2[i] * X_classes_1_2[i, j] \n",
    "                              for i in range(n)) == 0 \n",
    "                              for j in range(X_classes_1_2.shape[1])), name=\"constraint\")\n",
    "model.addConstr(gp.quicksum(mu_perceptron[i] * y_classes_1_2[i] for i in range(n)) == 0, name=\"constraint_sum\")\n",
    "\n",
    "model.setParam('OutputFlag', 0)\n",
    "model.optimize()\n",
    "\n",
    "\n",
    "# Get model status\n",
    "status_dict = {\n",
    "    GRB.OPTIMAL: \"Optimal solution found.\",\n",
    "    GRB.UNBOUNDED: \"The problem is unbounded.\",\n",
    "    GRB.INFEASIBLE: \"The problem is infeasible.\",\n",
    "}\n",
    "print(\"Model Status:\", status_dict.get(model.Status, f\"Unknown status code: {model.Status}\"))\n",
    "\n"
   ]
  },
  {
   "cell_type": "markdown",
   "id": "6656b8a7",
   "metadata": {},
   "source": [
    "## b) Hard Margin Classifier\n",
    "\n",
    "__Task:__ If classes 1 and 2 are linearly separable, find an optimal hard-margin linear classifier.\n",
    "Otherwise, find both an optimal soft-margin linear classifier and an optimal nonlinear\n",
    "kernel classifier. Use Gurobi–Python optimization models and discuss the results.\n",
    "\n",
    "As we found the data to be linealy separable in a), we proceed with a hard margine classifier (Hard Margine Support Vector Machine) to find a optimal linear seperation between the two classes. The implementation below is a modified version of the dual SVM as implemented in class. "
   ]
  },
  {
   "cell_type": "code",
   "execution_count": 5,
   "id": "711ac6b3",
   "metadata": {},
   "outputs": [],
   "source": [
    "\"\"\"\n",
    "Based on the script orginally Created on Fri Apr 11 17:13:32 2025 by @author: josenino-mora\n",
    "\"\"\"\n",
    "\n",
    "# Model\n",
    "model = gp.Model(\"svm_dual\")\n",
    "mu = model.addVars(n, lb=0.0, name=\"mu\")\n",
    "\n",
    "K = X_classes_1_2 @ X_classes_1_2.T \n",
    "Q = np.outer(y_classes_1_2, y_classes_1_2) * K\n",
    "\n",
    "# Obj. - max sum(mu_i) - 0.5 * sum_{i,j} mu_i mu_j y_i y_j <x_i, x_j>\n",
    "model.setObjective(\n",
    "    gp.quicksum(mu[i] for i in range(n)) -\n",
    "    0.5 * gp.quicksum(Q[i, j] * mu[i] * mu[j] for i in range(n) for j in range(n)),\n",
    "    GRB.MAXIMIZE\n",
    ")\n",
    "\n",
    "# Constr - sum(mu_i * y_i) = 0\n",
    "model.addConstr(gp.quicksum(mu[i] * y_classes_1_2[i] for i in range(n)) == 0, name=\"equality\")\n",
    "\n",
    "model.setParam('OutputFlag', 0)\n",
    "model.optimize()"
   ]
  },
  {
   "cell_type": "markdown",
   "id": "55641d94",
   "metadata": {},
   "source": [
    "With the solution, we can then perform classification on the training data for a quick sanity check to validate the results. By working back from the dual probelm and generating the predictions, we yield a 100% accuracy, showing that our SVM is as expected able to perfectly seperate the data for wine classes 1 and 2."
   ]
  },
  {
   "cell_type": "code",
   "execution_count": 6,
   "id": "db665353",
   "metadata": {},
   "outputs": [
    {
     "name": "stdout",
     "output_type": "stream",
     "text": [
      "Accuracy: 100.00%\n"
     ]
    }
   ],
   "source": [
    "# get weights and biases\n",
    "mu_vals = np.array([mu[i].X for i in range(n)])\n",
    "w = np.sum((mu_vals * y_classes_1_2)[:, None] * X_classes_1_2, axis=0) \n",
    "\n",
    "\n",
    "support_idx = np.where(mu_vals > 1e-6)[0][0]\n",
    "x_s = X_classes_1_2[support_idx]\n",
    "y_s = y_classes_1_2[support_idx]\n",
    "\n",
    "b = y_s - np.dot(w, x_s)\n",
    "\n",
    "# make predictions\n",
    "def predict(X_test):\n",
    "    return np.sign(X_test @ w + b)\n",
    "y_pred = predict(X_classes_1_2)\n",
    "\n",
    "# get accuracy\n",
    "accuracy = accuracy_score(y_classes_1_2, y_pred)\n",
    "print(f\"Accuracy: {accuracy:.2%}\")\n"
   ]
  },
  {
   "cell_type": "markdown",
   "id": "4f7e0b0e",
   "metadata": {},
   "source": [
    "## c) Optimal Classifier Tree\n",
    "\n",
    "__Task:__ Adapt the codes seen in class to construct OCTs for the three classes with axis-parallel\n",
    "splits based on the first two features. Construct OCTs up to the maximum depth that\n",
    "your computer can solve within a reasonably short time. Discuss the results.\n",
    "\n",
    "Moving on to classification trees, we again use code once used in class to generate a optimal classification tree, this time for all three classes. We now train a tree of depth two (more than two not feasible, potentially due to n_depth > n_features) as shown below."
   ]
  },
  {
   "cell_type": "code",
   "execution_count": 7,
   "id": "4ac3bc6d",
   "metadata": {},
   "outputs": [],
   "source": [
    "\"\"\"\n",
    "Based on the script orginally Created on Thu Apr 24 22:51:51 2025 by @author: josenino-mora\n",
    "\"\"\"\n",
    "# \n",
    "X = X[:, :2]\n",
    "\n",
    "n_samples, n_features = X.shape\n",
    "classes = [0, 1, 2]\n",
    "\n",
    "\n",
    "# Tree depth\n",
    "depth = 2\n",
    "n_internal = 2**depth - 1\n",
    "n_leaves = 2**depth\n",
    "\n",
    "# Big-M constant\n",
    "M = np.max(X) - np.min(X)\n",
    "eps = 1e-4\n",
    "\n",
    "# Create model\n",
    "m = gp.Model(\"OCT_depth3\")\n",
    "#m.setParam('OutputFlag', 0)\n",
    "\n",
    "# Split selection: s[j,t] = 1 if node t splits on feature j\n",
    "s = m.addVars(n_features, n_internal, vtype=GRB.BINARY, name=\"s\")\n",
    "# Thresholds for each internal node\n",
    "t = m.addVars(n_internal, vtype=GRB.CONTINUOUS, name=\"b\")\n",
    "# Routing: l[i,k] = 1 if sample i assigned to leaf k\n",
    "l = m.addVars(n_samples, n_leaves, vtype=GRB.BINARY, name=\"l\")\n",
    "# Class assignment at leaves: z[k,c]\n",
    "z = m.addVars(n_leaves, classes, vtype=GRB.BINARY, name=\"z\")\n",
    "# Misclassification loss\n",
    "loss = m.addVars(n_samples, vtype=GRB.BINARY, name=\"loss\")\n",
    "\n",
    "# Each sample assigned to exactly one leaf\n",
    "for i in range(n_samples):\n",
    "    m.addConstr(gp.quicksum(l[i, k] for k in range(n_leaves)) == 1)\n",
    "\n",
    "# Each leaf predicts exactly one class\n",
    "for k in range(n_leaves):\n",
    "    m.addConstr(gp.quicksum(z[k, c] for c in classes) == 1)\n",
    "\n",
    "# Feature selection: one feature per internal node\n",
    "for t_idx in range(n_internal):\n",
    "    m.addConstr(gp.quicksum(s[j, t_idx] for j in range(n_features)) == 1)\n",
    "\n",
    "# Routing constraints: for each sample, leaf, and internal node\n",
    "# Precompute direction of leaf k at node t: -1=left, +1=right\n",
    "direction = np.zeros((n_leaves, n_internal), dtype=int)\n",
    "for k in range(n_leaves):\n",
    "    node = n_internal + k  # full-tree index of leaf\n",
    "    # walk up to root\n",
    "    while node > 0:\n",
    "        parent = (node - 1) // 2\n",
    "        if node == 2 * parent + 1:\n",
    "            direction[k, parent] = -1\n",
    "        else:\n",
    "            direction[k, parent] = 1\n",
    "        node = parent\n",
    "\n",
    "for i in range(n_samples):\n",
    "    # misclassification constraints\n",
    "    for k in range(n_leaves):\n",
    "        for c in classes:\n",
    "            if c != y[i]:\n",
    "                m.addConstr(loss[i] >= l[i, k] + z[k, c] - 1)\n",
    "    # routing by splits\n",
    "    for t_idx in range(n_internal):\n",
    "        expr = gp.quicksum(s[j, t_idx] * X[i, j] for j in range(n_features))\n",
    "        # for each leaf k, enforce this for l[i,k]\n",
    "        for k in range(n_leaves):\n",
    "            if direction[k, t_idx] == -1:\n",
    "                m.addConstr(expr <= t[t_idx] + M * (1 - l[i, k]))\n",
    "            elif direction[k, t_idx] == 1:\n",
    "                m.addConstr(expr >= t[t_idx] + eps - M * (1 - l[i, k]))\n",
    "\n",
    "# Objective: minimize misclassification\n",
    "m.setObjective(gp.quicksum(loss[i] for i in range(n_samples)), GRB.MINIMIZE)\n",
    "\n",
    "# Solve\n",
    "m.setParam('OutputFlag', 0)\n",
    "m.optimize()\n",
    "\n",
    "\n",
    "## Extract solution\n",
    "# Splits: feature and threshold\n",
    "splits = []\n",
    "for t_idx in range(n_internal):\n",
    "    feat = np.argmax([s[j, t_idx].X for j in range(n_features)])\n",
    "    thresh = t[t_idx].X\n",
    "    splits.append((feat, thresh))\n",
    "# Leaf predictions\\\n",
    "    leaf_preds = [np.argmax([z[k, c].X for c in classes]) for k in range(n_leaves)]"
   ]
  },
  {
   "cell_type": "markdown",
   "id": "b82b5738",
   "metadata": {},
   "source": [
    "From the training, we yield the tree shown in the plot below. Interpretation remains dificult, with the only insight being that dependent on x1, the threshhold for a datapoint belonging to Class 1 shifting slightly."
   ]
  },
  {
   "cell_type": "code",
   "execution_count": 8,
   "id": "596a0b78",
   "metadata": {},
   "outputs": [
    {
     "data": {
      "image/png": "[encoded data removed]",
      "text/plain": [
       "<IPython.core.display.Image object>"
      ]
     },
     "metadata": {},
     "output_type": "display_data"
    }
   ],
   "source": [
    "\n",
    "### Plot tree with Graphviz\n",
    "g = Digraph('OCT', format='png')\n",
    "def node_name(idx):\n",
    "    return f\"N{idx}\"\n",
    "\n",
    "# Add internal nodes\n",
    "for t_idx, (feat, thresh) in enumerate(splits):\n",
    "    g.node(node_name(t_idx), f\"x{feat} <= {thresh:.2f}\")\n",
    "# Add leaves\n",
    "for k, pred in enumerate(leaf_preds):\n",
    "    leaf_idx = n_internal + k\n",
    "    g.node(node_name(leaf_idx), f\"Class {pred}\", shape='box')\n",
    "# Add edges\n",
    "def add_edges(idx):\n",
    "    left = 2*idx + 1\n",
    "    right = 2*idx + 2\n",
    "    if left < n_internal + n_leaves:\n",
    "        g.edge(node_name(idx), node_name(left), label='Yes')\n",
    "        add_edges(left)\n",
    "    if right < n_internal + n_leaves:\n",
    "        g.edge(node_name(idx), node_name(right), label='No')\n",
    "        add_edges(right)\n",
    "add_edges(0)\n",
    "\n",
    "# Show plot\n",
    "g.render('oct_depth3_tree', format='png', cleanup=True)\n",
    "display(Image(filename='oct_depth3_tree.png'))"
   ]
  },
  {
   "cell_type": "markdown",
   "id": "a6dcc1ce",
   "metadata": {},
   "source": [
    "To evaluate the optimal depth of the tree, we perform prediction on the training data, with a resulting accuracy of 83.15%. With the results seemingly impressive for depth two, it can be assumed, that the accuracy can be significantly improved by using greater depth, as classes one and two have been found to be linealy separable. Allowing the tree to use more predictors could be an alternative approach to improve accuracy further, allowing the tree to pick the optimal features."
   ]
  },
  {
   "cell_type": "code",
   "execution_count": 9,
   "id": "4f74f5bf",
   "metadata": {},
   "outputs": [
    {
     "name": "stdout",
     "output_type": "stream",
     "text": [
      "Accuracy: 83.15%\n"
     ]
    }
   ],
   "source": [
    "def predict_tree(X_test, splits, leaf_preds):\n",
    "    n_internal = len(splits)\n",
    "    n_leaves = len(leaf_preds)\n",
    "    predictions = []\n",
    "\n",
    "    \n",
    "    for x in X_test:\n",
    "        # walk through tree\n",
    "        node = 0  \n",
    "        while node < n_internal:\n",
    "            feature, threshold = splits[node]\n",
    "            if x[feature] <= threshold:\n",
    "                node = 2 * node + 1 # go left\n",
    "            else:\n",
    "                node = 2 * node + 2  # go right\n",
    "        leaf_index = node - n_internal\n",
    "        predictions.append(leaf_preds[leaf_index])\n",
    "\n",
    "    return np.array(predictions)\n",
    "\n",
    "# Calculate accuracy\n",
    "predictions = predict_tree(X, splits, leaf_preds)\n",
    "accuracy = accuracy_score(y, predictions)\n",
    "print(f\"Accuracy: {accuracy:.2%}\")"
   ]
  },
  {
   "cell_type": "markdown",
   "id": "09d0a2a8",
   "metadata": {},
   "source": [
    "## d) OCT-H\n",
    "\n",
    "__Task:__ Do as in part c) but for OCT-H.\n",
    "\n",
    "To further improve the performance of our classification, we then proceed to using a Optimal classification tree with hyperplanes (OCT-H) to allow for linear combinations of multiple predictors. We again use the code shown in class."
   ]
  },
  {
   "cell_type": "code",
   "execution_count": 10,
   "id": "63ae4dd3",
   "metadata": {},
   "outputs": [],
   "source": [
    "\"\"\"\n",
    "Based on the script orginally Created on Fri Apr 25 18:21:36 2025 by @author: josenino-mora\n",
    "\"\"\"\n",
    "\n",
    "n, d = X.shape\n",
    "\n",
    "# Big-M and margin\n",
    "M = 1e3\n",
    "epsilon = 1e-4\n",
    "\n",
    "# Create model\n",
    "model = Model()\n",
    "model.Params.OutputFlag = 0\n",
    "\n",
    "# Node 1 (root) hyperplane: separate class 0 vs {1,2}\n",
    "w1 = model.addVars(d, lb=-GRB.INFINITY, ub=GRB.INFINITY, name=\"w1\")\n",
    "b1 = model.addVar(lb=-GRB.INFINITY, ub=GRB.INFINITY, name=\"b1\")\n",
    "# Node 2 (right child) hyperplane: separate class1 vs class2\n",
    "w2 = model.addVars(d, lb=-GRB.INFINITY, ub=GRB.INFINITY, name=\"w2\")\n",
    "b2 = model.addVar(lb=-GRB.INFINITY, ub=GRB.INFINITY, name=\"b2\")\n",
    "\n",
    "# Assignment and error vars\n",
    "u = model.addVars(n, vtype=GRB.BINARY, name=\"go_right\")  # root decision\n",
    "v = model.addVars(n, vtype=GRB.BINARY, name=\"go_versicolor\")  # second node decision\n",
    "l = model.addVars(n, 3, vtype=GRB.BINARY, name=\"leaf_class\")  # l[i,k]=1 if sample i assigned class k\n",
    "e = model.addVars(n, vtype=GRB.BINARY, name=\"error\")\n",
    "\n",
    "# Constraints: each sample assigned exactly one leaf class\n",
    "for i in range(n):\n",
    "    model.addConstr(quicksum(l[i,k] for k in range(3)) == 1, name=f\"oneclass_{i}\")\n",
    "\n",
    "# Link root decision u: u=1 if sample goes right (w1'x + b1 >= 0)\n",
    "for i in range(n):\n",
    "    expr1 = quicksum(w1[j]*X[i,j] for j in range(d)) + b1\n",
    "    model.addConstr(expr1 + M*(1 - u[i]) >= 0, name=f\"root_pos_{i}\")\n",
    "    model.addConstr(expr1 - M*u[i] <= 0, name=f\"root_neg_{i}\")\n",
    "\n",
    "# Link second decision v only for those going right; left branch directly class 0\n",
    "for i in range(n):\n",
    "    expr2 = quicksum(w2[j]*X[i,j] for j in range(d)) + b2\n",
    "    model.addConstr(expr2 + M*(1 - v[i]) >= epsilon - M*(1-u[i]), name=f\"node2_pos_{i}\")\n",
    "    model.addConstr(expr2 - M*v[i] <= -epsilon + M*(1-u[i]), name=f\"node2_neg_{i}\")\n",
    "\n",
    "# Link leaf_class l[i,k] to u and v\n",
    "for i in range(n):\n",
    "    model.addConstr(l[i,0] == 1 - u[i], name=f\"leaf0_{i}\")\n",
    "    model.addConstr(l[i,1] == u[i]*v[i], name=f\"leaf1_{i}\")\n",
    "    model.addConstr(l[i,2] == u[i]*(1-v[i]), name=f\"leaf2_{i}\")\n",
    "\n",
    "# Error constraints: e[i]=1 if assigned class != true label\n",
    "for i in range(n):\n",
    "    for k in range(3):\n",
    "        if k != int(y[i]):\n",
    "            model.addConstr(e[i] >= l[i,k], name=f\"err_{i}_{k}\")\n",
    "\n",
    "# Objective: minimize total errors\n",
    "model.setObjective(quicksum(e[i] for i in range(n)), GRB.MINIMIZE)\n",
    "\n",
    "model.setParam('OutputFlag', 0)\n",
    "model.optimize()\n",
    "\n",
    "# Extract solution values\n",
    "w1_val = np.array([w1[j].X for j in range(d)])\n",
    "b1_val = b1.X\n",
    "w2_val = np.array([w2[j].X for j in range(d)])\n",
    "b2_val = b2.X\n",
    "l_val = np.array([[l[i,k].X for k in range(3)] for i in range(n)])\n",
    "pred = l_val.argmax(axis=1)"
   ]
  },
  {
   "cell_type": "markdown",
   "id": "3b803502",
   "metadata": {},
   "source": [
    "Performing predictions on the training data for this classifier, we find an increase in predictive power relative to the base OCT, with this classifier yielding a 100% accuracy as shown below. "
   ]
  },
  {
   "cell_type": "code",
   "execution_count": 11,
   "id": "2ddac71e",
   "metadata": {},
   "outputs": [
    {
     "name": "stdout",
     "output_type": "stream",
     "text": [
      "Total Classification Errors: 0\n",
      "Accuracy: 100.00%\n"
     ]
    }
   ],
   "source": [
    "# Calculate classification errors\n",
    "classification_errors = np.sum(pred != y)\n",
    "total_samples = len(y)\n",
    "accuracy = 1-classification_errors / total_samples\n",
    "\n",
    "print(f\"Total Classification Errors: {classification_errors}\")\n",
    "print(f\"Accuracy: {accuracy:.2%}\")"
   ]
  },
  {
   "cell_type": "markdown",
   "id": "6456356c",
   "metadata": {},
   "source": [
    "However when reviewing the weigts and biases, we find all except of bias 2 to be zero, hinting at the fact that the code might contain errors. This might also explain the perfect accuracy, hinting at a potentially errorsome code."
   ]
  },
  {
   "cell_type": "code",
   "execution_count": 12,
   "id": "20654bb1",
   "metadata": {},
   "outputs": [
    {
     "name": "stdout",
     "output_type": "stream",
     "text": [
      "w1 (root hyperplane weights): [0. 0.]\n",
      "b1 (root hyperplane bias): 0.0\n",
      "w2 (right child hyperplane weights): [0. 0.]\n",
      "b2 (right child hyperplane bias): 0.00010000000111176632\n"
     ]
    }
   ],
   "source": [
    "print(\"w1 (root hyperplane weights):\", w1_val)\n",
    "print(\"b1 (root hyperplane bias):\", b1_val)\n",
    "print(\"w2 (right child hyperplane weights):\", w2_val)\n",
    "print(\"b2 (right child hyperplane bias):\", b2_val)"
   ]
  },
  {
   "cell_type": "markdown",
   "id": "fe03ef4a",
   "metadata": {},
   "source": [
    "## Conclusion Part 1\n",
    "\n",
    "Overall, with the data seemingly well seperated, the resulting good accuracy results for all classifiers are not unexpected. Intereistingly, in the case of the OTC, depth 3 seems to be a minimum no in computation time, with solving times in creasing for both depth 2 and 4. Assuming the used code is indeed correct, OCT-H appear to be able to slightly represent the data better. Further review would however be required to make sure the results are correct."
   ]
  },
  {
   "cell_type": "markdown",
   "id": "2446e7cf",
   "metadata": {},
   "source": [
    "# Problem 2\n",
    "\n",
    "__Context:__ A company exploits a renewable resource (e.g., forestry, fish- eries, land, etc.). The resource level at the start of time period (year) t= 0,1,... is given by its state st, which can take the values 0,1,...,n: as the resource gets depleted, its state becomes lower. Thus, state 0 represents a completely depleted resource, and state n a full resource level. At the start of each year t, the company observes the state and then decides whether it will exploit the resource (active action: at = 1) or let it rest (passive action: at = 0) in that year. If the state is i and the resource is exploited, the company (i) earns a reward of Ri e in the year, with R>0; and (ii) incurs an operating cost of C e. If the resource is idled no rewards are earned nor costs are incurred in the year. The state at the start of the next year depends on whether the resource is exploited or rested in the current year. If it is exploited and the current state is i, the state changes from i to i−1 with probability (w.p.) µi, and stays at iw.p. 1−µi. If rested, the state changes from ito i+ 1 w.p. λ(n−i) and stays at i w.p. 1−λ(n−i).\n",
    "\n",
    "## a) Formulate Problem \n",
    "\n",
    "__Task:__ Formulate the problem of finding a policy that maximizes the total expected discounted reward (with discount factor 0 <β <1) over an infinite planning horizon as a Markov decision process (MDP). State the elements of such an MDP.\n",
    "\n",
    "We thus begin by formulating the problem in the form of a Markov decision process.\n",
    "\n",
    "__Formulation:__\n",
    "\n",
    "_Time Periods_ $t = 0,1,...,T$\n",
    "_States (number of Recourses)_ s_t = 0,1,...,n \n",
    "\n",
    "_Action (exploit/rest)_ for $ t, \\; a_t \\in \\mathcal{A}(s_t) = \\{0,1\\}$\n",
    "($0$, if exploit, $1$ if rest)\n",
    "\n",
    "_One period Reward_ $R^a(i)$ \n",
    "\n",
    "- $R^0(i) = 0$\n",
    "\n",
    "- $R^1(i) = R*i-C$\n",
    "\n",
    "\n",
    "_State Transition Probabilities_\n",
    "\n",
    "for $a_t = 0$ (rest):  \n",
    "- $P(s_{t+1} = i+1 \\mid s_t = i, a_t = 0) = \\lambda (n-i)$  \n",
    "- $P(s_{t+1} = i \\mid s_t = i, a_t = 0) = 1 - \\lambda (n-i)$\n",
    "\n",
    "for $a_t = 1$ (exploit):  \n",
    "- $P(s_{t+1} = i-1 \\mid s_t = i, a_t = 1) = \\mu_i$  \n",
    "- $P(s_{t+1} = i \\mid s_t = i, a_t = 1) = 1 - \\mu_i$  \n",
    "\n",
    "_Discount Factor_\n",
    "$ 0 < \\beta < 1 $\n",
    "\n",
    "\n",
    "_objective function (Expected total discounted reward (ETD))_\n",
    "\n",
    "$ \\text{max } \\mathbb{E}^{\\pi}_i \\left[ \\sum_{t=0}^{\\infty} (r_t- C_t) \\beta^t \\right]\n",
    "$"
   ]
  },
  {
   "cell_type": "markdown",
   "id": "84d2f336",
   "metadata": {},
   "source": [
    "\n",
    "## b) Formulate Bellman Equation, reforumlate as LO problem and solve via Gurobi \n",
    "\n",
    "__Task:__ For the discounted and for the long-run average criterion, formulate the Bellman equations, reformulate them as LO problems, and solve them using Gurobi–Python in the case n= 4, λ= 0.2, µ= 0.15, R= 5 and C = 0.5 (for the discounted criterion use β ∈{0.2,0.4,0.6,0.8,0.9}), identifying the optimal policies in each case.\n",
    "\n",
    "With the elements of the MDP established, we proceed to derive the Bellman Equations as done in Class. The general formulation of the Bellmann Equation is as follows \n",
    "\n",
    "$\n",
    "\\quad v^*(i) = \\text{max}_{a \\in A(i)} R^a(i) + \\beta \\sum_{j \\in S} p^a(i, j) v^*(j), \\quad i \\in S\n",
    "$\n",
    "\n",
    "which by introducing the corresponding probabilities for our problem, corresponds to\n",
    "\n",
    "$\n",
    "v^*(i) = \\text{max}\n",
    "\\begin{cases}\n",
    "\\beta \\left[(\\lambda (n-i)) v^*(i+1) + (1-\\lambda (n-i)) v^*(i)\\right] \\hspace{1.5em} \\text{for } a_t = 0 \\\\\n",
    "(R i - C) + \\beta \\left[(\\mu i) v^*(i-1) + (1-\\mu i) v^*(i)\\right] \\hspace{1.5em} \\text{for } a_t = 1\n",
    "\\end{cases}\n",
    "$\n",
    "\n",
    "taking into account both possible actions respecitvely. For the special cases $i=0,4$ we observe how the respective probability terms go to zero, thus preventing the state and reward to move out of bounds.\n"
   ]
  },
  {
   "cell_type": "markdown",
   "id": "2a9c20cd",
   "metadata": {},
   "source": [
    "With the Bellman Equations defined, we proceed to reformulate it as a Linera Optimization problem as shown in class\n",
    "\n",
    "Minimize $\\sum_{i} p_0(j)v(j)$\n",
    "\n",
    "s.t.\n",
    "\n",
    "$v^*(i) - \\beta*[(\\lambda*(n-i))*v^*(i+1)+(1-\\lambda*(n-i))*v^*(i)] \\geq 0$ \n",
    "\n",
    "$v^*(i) - \\beta*[(\\mu * i)*v^*(i-1)+(1-\\mu*i)*v^*(i)] \\geq R*i-C$\n",
    "\n",
    "\n",
    "with the state probability at $t_0$ as $p_0(j) = \\frac{1}{5}$\n",
    "\n",
    "With the problem thus fully defined, we can proceed to solving the problem using the codes provided in class. We first define the inputs in the first code chunk below and then proceed to solve in the second chunk for multiple $\\beta$ values."
   ]
  },
  {
   "cell_type": "code",
   "execution_count": 13,
   "id": "5e2e3ebf",
   "metadata": {},
   "outputs": [],
   "source": [
    "\n",
    "# States and actions\n",
    "states = [0,1,2,3,4]\n",
    "actions = [0, 1]\n",
    "theta = 1e-6  # Convergence threshold\n",
    "betas = [0.2, 0.4, 0.6, 0.8,0.9]  # Different discount factors\n",
    "lmbda = 0.2\n",
    "\n",
    "n = 4\n",
    "mu = 0.15\n",
    "Red = 5\n",
    "C = 0.5\n",
    "\n",
    "# Transition probabilities P[s][a][s']\n",
    "P = {\n",
    "    0: {\n",
    "        0: [1 - lmbda * (n-0), lmbda * (n-0), 0, 0, 0],  \n",
    "        1: [1, 0, 0, 0, 0],  \n",
    "    },\n",
    "    1: {\n",
    "        0: [0, 1 - lmbda * (n-1), lmbda * (n-1), 0, 0],\n",
    "        1: [mu * 1, 1 - mu * 1, 0, 0, 0],\n",
    "    },\n",
    "    2: {\n",
    "        0: [0, 0, 1 - lmbda * (n-2), lmbda * (n-2), 0],\n",
    "        1: [0, mu * 2, 1 - mu * 2, 0, 0],\n",
    "    },\n",
    "    3: {\n",
    "        0: [0, 0, 0, 1 - lmbda * (n-3), lmbda * (n-3)],\n",
    "        1: [0, 0, mu * 3, 1 - mu * 3, 0],\n",
    "    },\n",
    "    4: {\n",
    "        0: [0, 0, 0, 0, 1],  \n",
    "        1: [0, 0, 0, mu * 4, 1 - mu * 4],\n",
    "    },\n",
    "}\n",
    "\n",
    "# Rewards R[s][a]\n",
    "R = {\n",
    "    0: {0: 0, 1: Red*0 - C},\n",
    "    1: {0: 0, 1: Red*1 - C},\n",
    "    2: {0: 0, 1: Red*2 - C},\n",
    "    3: {0: 0, 1: Red*3 - C},\n",
    "    4: {0: 0, 1: Red*4 - C}\n",
    "}"
   ]
  },
  {
   "cell_type": "code",
   "execution_count": 14,
   "id": "b4cb3283",
   "metadata": {},
   "outputs": [],
   "source": [
    "#!/usr/bin/env python3\n",
    "# -*- coding: utf-8 -*-\n",
    "\"\"\"\n",
    "Created on Thu May  8 20:53:15 2025\n",
    "\n",
    "@author: josenino-mora\n",
    "\"\"\"\n",
    "\n",
    "import gurobipy as gp\n",
    "from gurobipy import GRB\n",
    "import numpy as np\n",
    "from collections import defaultdict\n",
    "\n",
    "# Solve the LP for a list of discount factors (betas)\n",
    "results = {}\n",
    "\n",
    "for beta in betas:\n",
    "    # Create Gurobi model\n",
    "    model = gp.Model(\"mdp_lp\")\n",
    "    model.setParam('OutputFlag', 0)  # suppress solver output\n",
    "\n",
    "    # Add variables V_s for each state s\n",
    "    V = model.addVars(states, name=\"V\", lb=-GRB.INFINITY)\n",
    "\n",
    "    # Objective: minimize sum of V_s\n",
    "    model.setObjective(gp.quicksum(V[s] for s in states), GRB.MINIMIZE)\n",
    "\n",
    "    # Constraints: V[s] ≥ R[s][a] + beta ∑ P(s' | s, a) * V[s']\n",
    "    for s in states:\n",
    "        for a in actions:\n",
    "            rhs = R[s][a] + beta * gp.quicksum(P[s][a][s_next] * V[s_next] for s_next in states)\n",
    "            model.addConstr(V[s] >= rhs, name=f\"c_{s}_{a}\")\n",
    "\n",
    "    # Solve\n",
    "    model.optimize()\n",
    "\n",
    "    # Extract optimal value function\n",
    "    V_opt = {s: V[s].X for s in states}\n",
    "\n",
    "    # Derive optimal policy by greedy action selection\n",
    "    policy = {}\n",
    "    for s in states:\n",
    "        best_a = max(actions, key=lambda a: R[s][a] + beta * sum(P[s][a][s_next] * V_opt[s_next] for s_next in states))\n",
    "        policy[s] = best_a\n",
    "\n",
    "    results[beta] = {\"V_opt\": V_opt, \"policy\": policy}\n"
   ]
  },
  {
   "cell_type": "markdown",
   "id": "1e689d9a",
   "metadata": {},
   "source": [
    "We investigate the results by plotting visualizations of the Optimal Values (left) and the optimal action (right).\n",
    "\n",
    "_The Optimal Values_ show the unsurprising pattern of an increase in reward with increase in state due to the multiplactive nature $state \\times reward$ of the reward function. Furthermore, the Value increases with increasing $\\beta$, as the future rewards gain value\n",
    "\n",
    "_The Optimal Action_ for each state are exploitation for $\\beta \\leq 0.6$ for all states except 0, while for $\\beta \\geq 0.8$ exploitation only becomes optimal at state 2, showing again how long term rewards becoming more valuable changes the optimal policies. \n",
    "\n",
    "Both of these results are in line with our expectations, leading us to believe that they are credible.\n"
   ]
  },
  {
   "cell_type": "code",
   "execution_count": 15,
   "id": "8718e615",
   "metadata": {},
   "outputs": [
    {
     "data": {
      "image/png": "[encoded data removed]",
      "text/plain": [
       "<Figure size 1152x432 with 2 Axes>"
      ]
     },
     "metadata": {
      "needs_background": "light"
     },
     "output_type": "display_data"
    }
   ],
   "source": [
    "### PLOTS GENERATED WITH HELP OF GITHUB COPILOT\n",
    "\n",
    "\n",
    "import matplotlib.pyplot as plt\n",
    "# Plot optimal value functions and optimal policies side by side\n",
    "fig, axes = plt.subplots(1, 2, figsize=(16, 6))\n",
    "\n",
    "# Left: Optimal value functions\n",
    "for beta in betas:\n",
    "    V_opt = results[beta]['V_opt']\n",
    "    axes[0].plot(states, [V_opt[s] for s in states], marker='o', label=f\"β={beta}\")\n",
    "axes[0].set_xlabel(\"State\")\n",
    "axes[0].set_ylabel(\"Optimal Value V(s)\")\n",
    "axes[0].set_title(\"Optimal Value Function for Different Discount Factors\")\n",
    "axes[0].legend()\n",
    "axes[0].grid(True)\n",
    "\n",
    "\n",
    "# Convert policy dicts to tuples for comparison\n",
    "policy_groups = defaultdict(list)\n",
    "for beta in betas:\n",
    "    # tuple of actions for all states\n",
    "    policy_tuple = tuple(results[beta]['policy'][s] for s in states)\n",
    "    policy_groups[policy_tuple].append(beta)\n",
    "\n",
    "# Plot each unique policy only once, with all corresponding betas in the label\n",
    "for policy_tuple, beta_group in policy_groups.items():\n",
    "    actions_plot = list(policy_tuple)\n",
    "    label = \"β=\" + \", \".join(str(b) for b in beta_group)\n",
    "    axes[1].plot(states, actions_plot, marker='o', label=label)\n",
    "axes[1].set_xlabel(\"State\")\n",
    "axes[1].set_ylabel(\"Optimal Action\")\n",
    "axes[1].set_title(\"Optimal Action per State for Different Discount Factors\")\n",
    "axes[1].set_yticks([0, 1])\n",
    "axes[1].set_xticks(states)\n",
    "axes[1].set_yticklabels([\"Rest (0)\", \"Exploit (1)\"])\n",
    "axes[1].legend()\n",
    "axes[1].grid(True)\n",
    "\n",
    "plt.tight_layout()\n",
    "plt.show()"
   ]
  },
  {
   "cell_type": "markdown",
   "id": "9a6a92f4",
   "metadata": {},
   "source": [
    "Using the optimal policies, we can now simulate a random process, like the one below starting at $s=0$ with $\\beta = 0.8$. The resulting process shows the oscilation between states 1 and 2, in line with the plot above."
   ]
  },
  {
   "cell_type": "code",
   "execution_count": 16,
   "id": "e26e9e0f",
   "metadata": {},
   "outputs": [
    {
     "name": "stdout",
     "output_type": "stream",
     "text": [
      "States: [0, 1, 2, 2, 2, 1, 1, 1, 2, 2, 2, 1, 2, 2, 1, 1, 1, 1, 2, 2, 1, 2, 1, 1, 1, 2, 2, 1, 2, 2, 1]\n",
      "Actions: [0, 0, 1, 1, 1, 0, 0, 0, 1, 1, 1, 0, 1, 1, 0, 0, 0, 0, 1, 1, 0, 1, 0, 0, 0, 1, 1, 0, 1, 1]\n",
      "Rewards: [0, 0, 9.5, 9.5, 9.5, 0, 0, 0, 9.5, 9.5, 9.5, 0, 9.5, 9.5, 0, 0, 0, 0, 9.5, 9.5, 0, 9.5, 0, 0, 0, 9.5, 9.5, 0, 9.5, 9.5]\n"
     ]
    }
   ],
   "source": [
    "### Generated using GitHub Copilot\n",
    "\n",
    "def simulate_mdp(policy, P, R, states, actions, start_state=0, n_steps=20, seed=42):\n",
    "    np.random.seed(seed)\n",
    "    state = start_state\n",
    "    state_history = [state]\n",
    "    action_history = []\n",
    "    reward_history = []\n",
    "\n",
    "    for _ in range(n_steps):\n",
    "        action = policy[state]\n",
    "        action_history.append(action)\n",
    "        reward = R[state][action]\n",
    "        reward_history.append(reward)\n",
    "        # Sample next state according to transition probabilities\n",
    "        next_state = np.random.choice(states, p=P[state][action])\n",
    "        state_history.append(next_state)\n",
    "        state = next_state\n",
    "\n",
    "    return {\n",
    "        \"states\": state_history,\n",
    "        \"actions\": action_history,\n",
    "        \"rewards\": reward_history\n",
    "    }\n",
    "\n",
    "# Example: simulate for beta=0.8\n",
    "beta_sim = 0.8\n",
    "sim_result = simulate_mdp(\n",
    "    policy=results[beta_sim]['policy'],\n",
    "    P=P,\n",
    "    R=R,\n",
    "    states=states,\n",
    "    actions=actions,\n",
    "    start_state=0,\n",
    "    n_steps=30\n",
    ")\n",
    "\n",
    "print(\"States:\", sim_result[\"states\"])\n",
    "print(\"Actions:\", sim_result[\"actions\"])\n",
    "print(\"Rewards:\", sim_result[\"rewards\"])"
   ]
  },
  {
   "cell_type": "markdown",
   "id": "f0135286",
   "metadata": {},
   "source": [
    "\n",
    "## c) Define critical Value\n",
    "\n",
    "__Task:__ Define C∗(i) as the critical value of C for which both actions (active and passive) are optimal in a given state i. Evaluate C∗(i) for each state i, both for the discounted criterion with β = 0.8, and for the long-run average criterion. Discuss the results.\n",
    "\n",
    "We solve the discounted criterion by fixing beta to 0.8 and by iterating over $C$ with start value 0 with a given step size for increase in $C$ with a maximum iterations limit. Once the difference in expected returns between both action falls below a threshold theta_ckrit, the loop is stopped and the current $C$ value stored as critical Value $C^*$."
   ]
  },
  {
   "cell_type": "code",
   "execution_count": 17,
   "id": "eed5bea8",
   "metadata": {},
   "outputs": [],
   "source": [
    "\n",
    "beta = 0.8\n",
    "step_size = 0.01\n",
    "\n",
    "theta_ckrit = 0.01\n",
    "iter_max = 10000\n",
    "\n",
    "C_crit = {}\n",
    "C_crit_exp = {}\n",
    "\n",
    "# Initialize action_values[0:4][0:1] with large random values\n",
    "action_values = {}\n",
    "for s in range(5):\n",
    "    action_values[s] = {}\n",
    "    for a in range(2):\n",
    "        action_values[s][a] = np.random.uniform(1e3, 1e4)\n",
    "\n",
    "for s_iter in states:\n",
    "    i = 0\n",
    "    C = 0.1\n",
    "    C_crit_exp[s_iter] = []\n",
    "\n",
    "    while abs(action_values[s_iter][0] - action_values[s_iter][1]) > theta_ckrit:\n",
    "        i = i + 1\n",
    "    \n",
    "        R = {\n",
    "            0: {0: 0, 1: Red*0 - C},\n",
    "            1: {0: 0, 1: Red*1 - C},\n",
    "            2: {0: 0, 1: Red*2 - C},\n",
    "            3: {0: 0, 1: Red*3 - C},\n",
    "            4: {0: 0, 1: Red*4 - C}\n",
    "        }\n",
    "        \n",
    "        # Create Gurobi model\n",
    "        model = gp.Model(\"mdp_lp\")\n",
    "        model.setParam('OutputFlag', 0)  # suppress solver output\n",
    "\n",
    "        # Add variables V_s for each state s\n",
    "        V = model.addVars(states, name=\"V\", lb=-GRB.INFINITY)\n",
    "\n",
    "        # Objective: minimize sum of V_s\n",
    "        model.setObjective(gp.quicksum(V[s] for s in states), GRB.MINIMIZE)\n",
    "\n",
    "        # Constraints: V[s] ≥ R[s][a] + beta ∑ P(s' | s, a) * V[s']\n",
    "        for s in states:\n",
    "            for a in actions:\n",
    "                rhs = R[s][a] + beta * gp.quicksum(P[s][a][s_next] * V[s_next] for s_next in states)\n",
    "                model.addConstr(V[s] >= rhs, name=f\"c_{s}_{a}\")\n",
    "\n",
    "        # Solve\n",
    "        model.optimize()\n",
    "\n",
    "        # Extract optimal value function\n",
    "        V_opt = {s: V[s].X for s in states}\n",
    "\n",
    "        # Store value for both actions in each state\n",
    "        action_values = {}\n",
    "        for s in states:\n",
    "            action_values[s] = {}\n",
    "            for a in actions:\n",
    "                action_values[s][a] = R[s][a] + beta * sum(P[s][a][s_next] * V_opt[s_next] for s_next in states)\n",
    "\n",
    "\n",
    "        C_crit_exp[s_iter].append({\n",
    "                \"C\": C,\n",
    "                \"action_0\": action_values[s_iter][0],\n",
    "                \"action_1\": action_values[s_iter][1]\n",
    "            })\n",
    "        \n",
    "        if i > iter_max:\n",
    "            C = None\n",
    "            action_values[s_iter][a] = None\n",
    "            break\n",
    "\n",
    "        C = C+step_size\n",
    "\n",
    "    # Use the last C value before the difference was less than threshold\n",
    "    C_crit[s_iter] = C\n"
   ]
  },
  {
   "cell_type": "markdown",
   "id": "47926cdb",
   "metadata": {},
   "source": [
    "When printing the results yielded, we find only states 2-4 having positive critical C values."
   ]
  },
  {
   "cell_type": "code",
   "execution_count": 18,
   "id": "0da2b576",
   "metadata": {},
   "outputs": [
    {
     "name": "stdout",
     "output_type": "stream",
     "text": [
      "C_crit: {0: None, 1: None, 2: 5.159999999999934, 3: 12.619999999999775, 4: 19.990000000000325}\n"
     ]
    }
   ],
   "source": [
    "print(\"C_crit:\", C_crit)"
   ]
  },
  {
   "cell_type": "markdown",
   "id": "cac8cb54",
   "metadata": {},
   "source": [
    "Plotting the results, shows that for the two first states, the critical C Values might be negative, which in the context of cost does not make sense practically. Apart from that, we see a increase in critical cost over states, which accounts for the increase in Reward with increasing state."
   ]
  },
  {
   "cell_type": "code",
   "execution_count": 19,
   "id": "57e778e6",
   "metadata": {},
   "outputs": [
    {
     "data": {
      "image/png": "[encoded data removed]",
      "text/plain": [
       "<Figure size 864x432 with 1 Axes>"
      ]
     },
     "metadata": {
      "needs_background": "light"
     },
     "output_type": "display_data"
    }
   ],
   "source": [
    "import matplotlib.pyplot as plt\n",
    "\n",
    "# Plot action values for action 0 and 1 over C for each state\n",
    "plt.figure(figsize=(12, 6))\n",
    "for s in states:\n",
    "    C_vals = [entry[\"C\"] for entry in C_crit_exp[s]]\n",
    "    action0_vals = [entry[\"action_0\"] for entry in C_crit_exp[s]]\n",
    "    action1_vals = [entry[\"action_1\"] for entry in C_crit_exp[s]]\n",
    "\n",
    "    color = f\"C{s}\" \n",
    "    plt.plot(C_vals, action0_vals, label=f\"State {s} - Action 0 (Rest)\", color=color)\n",
    "    plt.plot(C_vals, action1_vals, label=f\"State {s} - Action 1 (Exploit)\", linestyle='--', color=color)\n",
    "\n",
    "plt.xlabel(\"C\")\n",
    "plt.ylabel(\"Action Value\")\n",
    "plt.title(\"Action Values vs C for Each State (β=0.8)\")\n",
    "\n",
    "plt.xlim(right=40)\n",
    "plt.legend()\n",
    "plt.grid(True)\n",
    "plt.tight_layout()\n",
    "plt.show()"
   ]
  },
  {
   "cell_type": "markdown",
   "id": "20f80aee",
   "metadata": {},
   "source": [
    "Unfortunately, the long run average criterion could not be evaluated due to time constraints."
   ]
  },
  {
   "cell_type": "markdown",
   "id": "71dfee60",
   "metadata": {},
   "source": [
    "## Conclusion Part 2\n",
    "\n",
    "Overal, applying Markov Decision Processes yielded a sophisticated way to design decision policies maximizing the expected reward. They are however framework that requires some getting used to and thus some further investigation into the topic is needed to gain a deeper understanding of their possibilities and limitations. \n"
   ]
  }
 ],
 "metadata": {
  "kernelspec": {
   "display_name": "Python 3",
   "language": "python",
   "name": "python3"
  },
  "language_info": {
   "codemirror_mode": {
    "name": "ipython",
    "version": 3
   },
   "file_extension": ".py",
   "mimetype": "text/x-python",
   "name": "python",
   "nbconvert_exporter": "python",
   "pygments_lexer": "ipython3",
   "version": "3.10.0"
  }
 },
 "nbformat": 4,
 "nbformat_minor": 5
}
